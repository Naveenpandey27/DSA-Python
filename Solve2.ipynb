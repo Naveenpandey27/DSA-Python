{
  "nbformat": 4,
  "nbformat_minor": 0,
  "metadata": {
    "colab": {
      "name": "Solve2.ipynb",
      "provenance": []
    },
    "kernelspec": {
      "name": "python3",
      "display_name": "Python 3"
    },
    "language_info": {
      "name": "python"
    }
  },
  "cells": [
    {
      "cell_type": "code",
      "metadata": {
        "id": "rDBLBKMRaQJM"
      },
      "source": [
        ""
      ],
      "execution_count": null,
      "outputs": []
    },
    {
      "cell_type": "markdown",
      "metadata": {
        "id": "HM7zK6-fcWcf"
      },
      "source": [
        "# Two Sum"
      ]
    },
    {
      "cell_type": "code",
      "metadata": {
        "colab": {
          "base_uri": "https://localhost:8080/"
        },
        "id": "AE9UvqS0cZSY",
        "outputId": "c055de6f-e9d9-428d-ad74-ad72cf2cffd3"
      },
      "source": [
        "# Time - o(n^2)\n",
        "# space = o(1)\n",
        "\n",
        "\n",
        "def twosum(num, target):\n",
        "  for i in range(len(num)):\n",
        "    for j in range(1, len(num)):\n",
        "      if num[i] + num[j] == target:\n",
        "        return [i, j]\n",
        "\n",
        "num = [2, 3, 5, 7, 8]\n",
        "target = 9\n",
        "print(twosum(num, target))\n"
      ],
      "execution_count": 1,
      "outputs": [
        {
          "output_type": "stream",
          "text": [
            "[0, 3]\n"
          ],
          "name": "stdout"
        }
      ]
    },
    {
      "cell_type": "code",
      "metadata": {
        "colab": {
          "base_uri": "https://localhost:8080/"
        },
        "id": "dGY5Hn8Qcfpe",
        "outputId": "6f9e2499-90cc-4f39-ad54-cdf52c950e82"
      },
      "source": [
        "# optimize approach\n",
        "\n",
        "\n",
        "# Time - o(n)\n",
        "# space - o(n)\n",
        "\n",
        "\n",
        "def twosum(nums, target):\n",
        "  dict1 = {}\n",
        "  for i, n in enumerate(nums):\n",
        "    if n in dict1:\n",
        "      return[dict1[n], i]\n",
        "    dict1[target-n] = i\n",
        " \n",
        "  return []\n",
        " \n",
        " \n",
        "nums = [2, 4, 7, 8, 9]\n",
        "target = 9\n",
        "print(twosum(nums, target))"
      ],
      "execution_count": 4,
      "outputs": [
        {
          "output_type": "stream",
          "text": [
            "[0, 2]\n"
          ],
          "name": "stdout"
        }
      ]
    },
    {
      "cell_type": "code",
      "metadata": {
        "id": "FGq8iiSFc15e"
      },
      "source": [
        ""
      ],
      "execution_count": null,
      "outputs": []
    }
  ]
}